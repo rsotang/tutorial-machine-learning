{
 "metadata": {
  "language_info": {
   "codemirror_mode": {
    "name": "ipython",
    "version": 3
   },
   "file_extension": ".py",
   "mimetype": "text/x-python",
   "name": "python",
   "nbconvert_exporter": "python",
   "pygments_lexer": "ipython3",
   "version": "3.9.0"
  },
  "orig_nbformat": 2,
  "kernelspec": {
   "name": "python390jvsc74a57bd08b50c36b1a33f6cb46e2526f835ef1ab8287e96c456ed044702ee8742d8def96",
   "display_name": "Python 3.9.0 64-bit"
  },
  "metadata": {
   "interpreter": {
    "hash": "8b50c36b1a33f6cb46e2526f835ef1ab8287e96c456ed044702ee8742d8def96"
   }
  }
 },
 "nbformat": 4,
 "nbformat_minor": 2,
 "cells": [
  {
   "source": [
    "# Conceptos basicos\n"
   ],
   "cell_type": "markdown",
   "metadata": {}
  },
  {
   "source": [
    "Hablar de inteligencia artificial es un concepto bastante amplio que agrupa varios tipos de tecnología. Los primeros tipos de IA consisten es simular una serie de tareas intelectuales mediante el establecimiento o algortimia de todas las reglas que programan una tarea.\n",
    "\n",
    "El Machine learning consiste en un tipo de IA que es capaz de generar las propias dentro del sistema problema dándole datos y las supuestas respuestas, de tal forma que algoritimicamente podemos predecirlas.\n",
    "\n",
    "Las Redes Neuronales, son un tipo de mecanismo usado en ML en el cual añadimos mas sets de reglas (funciones, aplicaciones) entre unos inputs y unos outputs. Es un tipo de estructura de extracción de información en varias fases.\n",
    "\n",
    "\n",
    "\n",
    "\n"
   ],
   "cell_type": "markdown",
   "metadata": {}
  },
  {
   "source": [
    "Para ML vamos a utilizar una libreria que se basa en el uso de arrays como tensores, y todas las matematicas chulis que podemos hacer con ellos.\n",
    "Recordemos que no tenemos ni idea de lo que es un tensor, más alla de una cosa que se transforma como un tensor, así que para esta tarea en concreto, vamos a considerarlos una generalización de vectores en n-dim.\n",
    "\n",
    "En TensorFlow, hay una variable /objeto concreta que es el tensor. La libreria funciona mediante la relación con grafos de esos objetos.\n",
    "\n",
    "Los tensores pueden almacenar distintos tipos de datos en sus componentes, y tomar distintos valores en sus dimensiones.\n",
    "\n",
    "Cualquier variable creada dentro de la libreria de TensorFlow es un tensor que puede tener estas caracteristicas\n",
    "\n",
    "\n",
    "\n",
    " "
   ],
   "cell_type": "markdown",
   "metadata": {}
  },
  {
   "cell_type": "code",
   "execution_count": 2,
   "metadata": {},
   "outputs": [],
   "source": [
    "import tensorflow as tf \n"
   ]
  },
  {
   "cell_type": "code",
   "execution_count": 4,
   "metadata": {},
   "outputs": [],
   "source": [
    "string = tf.Variable(\"string\",tf.string)\n",
    "number = tf.Variable(12,tf.int16)\n",
    "floating= tf.Variable(3.5, tf.float64)"
   ]
  },
  {
   "source": [
    "La dimension del tensor creado de esta forma es la automatica según la libreria, pero podemos controlar la dimension del escalar en su creación utilizando listas como inputs."
   ],
   "cell_type": "markdown",
   "metadata": {}
  },
  {
   "cell_type": "code",
   "execution_count": 6,
   "metadata": {},
   "outputs": [],
   "source": [
    "escalar = tf.Variable([\"cosastring\",\"cosastring2\"],tf.string)\n",
    "matriz = tf.Variable([[\"primera cosa\",\"segunda cosa\"],[\"otra cosa\",\"otrascosas\"]],tf.string)"
   ]
  },
  {
   "source": [
    "Además pudemos utilizar la función de la libreria .rank() para saber la dimensión de un tensor."
   ],
   "cell_type": "markdown",
   "metadata": {}
  },
  {
   "cell_type": "code",
   "execution_count": 7,
   "metadata": {},
   "outputs": [
    {
     "output_type": "execute_result",
     "data": {
      "text/plain": [
       "<tf.Tensor: shape=(), dtype=int32, numpy=2>"
      ]
     },
     "metadata": {},
     "execution_count": 7
    }
   ],
   "source": [
    "tf.rank(matriz)"
   ]
  },
  {
   "source": [
    "El numero de elementos distribuidos por la forma del tensor es la shape del tensor, se calcula como un método de los objetos tipo tf."
   ],
   "cell_type": "markdown",
   "metadata": {}
  },
  {
   "cell_type": "code",
   "execution_count": 9,
   "metadata": {},
   "outputs": [
    {
     "output_type": "execute_result",
     "data": {
      "text/plain": [
       "TensorShape([2])"
      ]
     },
     "metadata": {},
     "execution_count": 9
    }
   ],
   "source": [
    "escalar.shape"
   ]
  },
  {
   "source": [
    "La respuesta son el numero de filas como [] con el numero de elementos en su interior\n"
   ],
   "cell_type": "markdown",
   "metadata": {}
  },
  {
   "source": [
    "Podemos cambiar la forma de los tensores jugando con los metodos de tf como reshape y otros, siempre teniendo en cuenta que el numero de elementos en transformaciones ha de permanecer constante."
   ],
   "cell_type": "markdown",
   "metadata": {}
  },
  {
   "cell_type": "code",
   "execution_count": 10,
   "metadata": {},
   "outputs": [],
   "source": [
    "tensor1 =tf.ones([1,2,3]) #tf.ones() crea una forma con 1,2,3 lleno de unos (1 lista con dos listas con 3 elementos cada una, ese elemento es el uno)\n",
    "tensor2=tf.reshape(tensor1,[2,3,1]) #con este metodo transformamos un tensor objetivo en el orden que hemos descrito ( dos listas con tres listas con 1 elemento cada una)\n",
    "tensor3= tf.reshape(tensor2,[3,-1]) #hacemos lo mismo pero utilizando el atajo-1, esto lo que hace es que la librería calcula el tamaño de la dimensión en ese lugar de forma automatica (3 listas con todos los elementos repartidas de forma equitativa, en este caso 2 por lista)\n"
   ]
  },
  {
   "cell_type": "code",
   "execution_count": 12,
   "metadata": {},
   "outputs": [
    {
     "output_type": "stream",
     "name": "stdout",
     "text": [
      "tf.Tensor(\n[[[1. 1. 1.]\n  [1. 1. 1.]]], shape=(1, 2, 3), dtype=float32)\ntf.Tensor(\n[[[1.]\n  [1.]\n  [1.]]\n\n [[1.]\n  [1.]\n  [1.]]], shape=(2, 3, 1), dtype=float32)\ntf.Tensor(\n[[1. 1.]\n [1. 1.]\n [1. 1.]], shape=(3, 2), dtype=float32)\n"
     ]
    }
   ],
   "source": [
    "print(tensor1)\n",
    "print(tensor2)\n",
    "print(tensor3)\n"
   ]
  },
  {
   "source": [
    "### Tipos de tensores\n",
    "\n",
    "Los tipos más comunes de tensores (creado utilizando funciones del paquete tf.) son \n",
    "\n",
    "- Variable\n",
    "- Constant\n",
    "- Placeholder \n",
    "- SparseTensor \n",
    "\n",
    "Siendo todos, menos Variable, objetos inmutables.\n",
    "\n",
    "Vamos a hacer un miniejemplo de transformaciones"
   ],
   "cell_type": "markdown",
   "metadata": {}
  },
  {
   "cell_type": "code",
   "execution_count": 13,
   "metadata": {},
   "outputs": [],
   "source": [
    "t = tf.zeros([5,5,5,5,5])"
   ]
  },
  {
   "cell_type": "code",
   "execution_count": 15,
   "metadata": {},
   "outputs": [
    {
     "output_type": "stream",
     "name": "stdout",
     "text": [
      "tf.Tensor(\n[[[[[0. 0. 0. 0. 0.]\n    [0. 0. 0. 0. 0.]\n    [0. 0. 0. 0. 0.]\n    [0. 0. 0. 0. 0.]\n    [0. 0. 0. 0. 0.]]\n\n   [[0. 0. 0. 0. 0.]\n    [0. 0. 0. 0. 0.]\n    [0. 0. 0. 0. 0.]\n    [0. 0. 0. 0. 0.]\n    [0. 0. 0. 0. 0.]]\n\n   [[0. 0. 0. 0. 0.]\n    [0. 0. 0. 0. 0.]\n    [0. 0. 0. 0. 0.]\n    [0. 0. 0. 0. 0.]\n    [0. 0. 0. 0. 0.]]\n\n   [[0. 0. 0. 0. 0.]\n    [0. 0. 0. 0. 0.]\n    [0. 0. 0. 0. 0.]\n    [0. 0. 0. 0. 0.]\n    [0. 0. 0. 0. 0.]]\n\n   [[0. 0. 0. 0. 0.]\n    [0. 0. 0. 0. 0.]\n    [0. 0. 0. 0. 0.]\n    [0. 0. 0. 0. 0.]\n    [0. 0. 0. 0. 0.]]]\n\n\n  [[[0. 0. 0. 0. 0.]\n    [0. 0. 0. 0. 0.]\n    [0. 0. 0. 0. 0.]\n    [0. 0. 0. 0. 0.]\n    [0. 0. 0. 0. 0.]]\n\n   [[0. 0. 0. 0. 0.]\n    [0. 0. 0. 0. 0.]\n    [0. 0. 0. 0. 0.]\n    [0. 0. 0. 0. 0.]\n    [0. 0. 0. 0. 0.]]\n\n   [[0. 0. 0. 0. 0.]\n    [0. 0. 0. 0. 0.]\n    [0. 0. 0. 0. 0.]\n    [0. 0. 0. 0. 0.]\n    [0. 0. 0. 0. 0.]]\n\n   [[0. 0. 0. 0. 0.]\n    [0. 0. 0. 0. 0.]\n    [0. 0. 0. 0. 0.]\n    [0. 0. 0. 0. 0.]\n    [0. 0. 0. 0. 0.]]\n\n   [[0. 0. 0. 0. 0.]\n    [0. 0. 0. 0. 0.]\n    [0. 0. 0. 0. 0.]\n    [0. 0. 0. 0. 0.]\n    [0. 0. 0. 0. 0.]]]\n\n\n  [[[0. 0. 0. 0. 0.]\n    [0. 0. 0. 0. 0.]\n    [0. 0. 0. 0. 0.]\n    [0. 0. 0. 0. 0.]\n    [0. 0. 0. 0. 0.]]\n\n   [[0. 0. 0. 0. 0.]\n    [0. 0. 0. 0. 0.]\n    [0. 0. 0. 0. 0.]\n    [0. 0. 0. 0. 0.]\n    [0. 0. 0. 0. 0.]]\n\n   [[0. 0. 0. 0. 0.]\n    [0. 0. 0. 0. 0.]\n    [0. 0. 0. 0. 0.]\n    [0. 0. 0. 0. 0.]\n    [0. 0. 0. 0. 0.]]\n\n   [[0. 0. 0. 0. 0.]\n    [0. 0. 0. 0. 0.]\n    [0. 0. 0. 0. 0.]\n    [0. 0. 0. 0. 0.]\n    [0. 0. 0. 0. 0.]]\n\n   [[0. 0. 0. 0. 0.]\n    [0. 0. 0. 0. 0.]\n    [0. 0. 0. 0. 0.]\n    [0. 0. 0. 0. 0.]\n    [0. 0. 0. 0. 0.]]]\n\n\n  [[[0. 0. 0. 0. 0.]\n    [0. 0. 0. 0. 0.]\n    [0. 0. 0. 0. 0.]\n    [0. 0. 0. 0. 0.]\n    [0. 0. 0. 0. 0.]]\n\n   [[0. 0. 0. 0. 0.]\n    [0. 0. 0. 0. 0.]\n    [0. 0. 0. 0. 0.]\n    [0. 0. 0. 0. 0.]\n    [0. 0. 0. 0. 0.]]\n\n   [[0. 0. 0. 0. 0.]\n    [0. 0. 0. 0. 0.]\n    [0. 0. 0. 0. 0.]\n    [0. 0. 0. 0. 0.]\n    [0. 0. 0. 0. 0.]]\n\n   [[0. 0. 0. 0. 0.]\n    [0. 0. 0. 0. 0.]\n    [0. 0. 0. 0. 0.]\n    [0. 0. 0. 0. 0.]\n    [0. 0. 0. 0. 0.]]\n\n   [[0. 0. 0. 0. 0.]\n    [0. 0. 0. 0. 0.]\n    [0. 0. 0. 0. 0.]\n    [0. 0. 0. 0. 0.]\n    [0. 0. 0. 0. 0.]]]\n\n\n  [[[0. 0. 0. 0. 0.]\n    [0. 0. 0. 0. 0.]\n    [0. 0. 0. 0. 0.]\n    [0. 0. 0. 0. 0.]\n    [0. 0. 0. 0. 0.]]\n\n   [[0. 0. 0. 0. 0.]\n    [0. 0. 0. 0. 0.]\n    [0. 0. 0. 0. 0.]\n    [0. 0. 0. 0. 0.]\n    [0. 0. 0. 0. 0.]]\n\n   [[0. 0. 0. 0. 0.]\n    [0. 0. 0. 0. 0.]\n    [0. 0. 0. 0. 0.]\n    [0. 0. 0. 0. 0.]\n    [0. 0. 0. 0. 0.]]\n\n   [[0. 0. 0. 0. 0.]\n    [0. 0. 0. 0. 0.]\n    [0. 0. 0. 0. 0.]\n    [0. 0. 0. 0. 0.]\n    [0. 0. 0. 0. 0.]]\n\n   [[0. 0. 0. 0. 0.]\n    [0. 0. 0. 0. 0.]\n    [0. 0. 0. 0. 0.]\n    [0. 0. 0. 0. 0.]\n    [0. 0. 0. 0. 0.]]]]\n\n\n\n [[[[0. 0. 0. 0. 0.]\n    [0. 0. 0. 0. 0.]\n    [0. 0. 0. 0. 0.]\n    [0. 0. 0. 0. 0.]\n    [0. 0. 0. 0. 0.]]\n\n   [[0. 0. 0. 0. 0.]\n    [0. 0. 0. 0. 0.]\n    [0. 0. 0. 0. 0.]\n    [0. 0. 0. 0. 0.]\n    [0. 0. 0. 0. 0.]]\n\n   [[0. 0. 0. 0. 0.]\n    [0. 0. 0. 0. 0.]\n    [0. 0. 0. 0. 0.]\n    [0. 0. 0. 0. 0.]\n    [0. 0. 0. 0. 0.]]\n\n   [[0. 0. 0. 0. 0.]\n    [0. 0. 0. 0. 0.]\n    [0. 0. 0. 0. 0.]\n    [0. 0. 0. 0. 0.]\n    [0. 0. 0. 0. 0.]]\n\n   [[0. 0. 0. 0. 0.]\n    [0. 0. 0. 0. 0.]\n    [0. 0. 0. 0. 0.]\n    [0. 0. 0. 0. 0.]\n    [0. 0. 0. 0. 0.]]]\n\n\n  [[[0. 0. 0. 0. 0.]\n    [0. 0. 0. 0. 0.]\n    [0. 0. 0. 0. 0.]\n    [0. 0. 0. 0. 0.]\n    [0. 0. 0. 0. 0.]]\n\n   [[0. 0. 0. 0. 0.]\n    [0. 0. 0. 0. 0.]\n    [0. 0. 0. 0. 0.]\n    [0. 0. 0. 0. 0.]\n    [0. 0. 0. 0. 0.]]\n\n   [[0. 0. 0. 0. 0.]\n    [0. 0. 0. 0. 0.]\n    [0. 0. 0. 0. 0.]\n    [0. 0. 0. 0. 0.]\n    [0. 0. 0. 0. 0.]]\n\n   [[0. 0. 0. 0. 0.]\n    [0. 0. 0. 0. 0.]\n    [0. 0. 0. 0. 0.]\n    [0. 0. 0. 0. 0.]\n    [0. 0. 0. 0. 0.]]\n\n   [[0. 0. 0. 0. 0.]\n    [0. 0. 0. 0. 0.]\n    [0. 0. 0. 0. 0.]\n    [0. 0. 0. 0. 0.]\n    [0. 0. 0. 0. 0.]]]\n\n\n  [[[0. 0. 0. 0. 0.]\n    [0. 0. 0. 0. 0.]\n    [0. 0. 0. 0. 0.]\n    [0. 0. 0. 0. 0.]\n    [0. 0. 0. 0. 0.]]\n\n   [[0. 0. 0. 0. 0.]\n    [0. 0. 0. 0. 0.]\n    [0. 0. 0. 0. 0.]\n    [0. 0. 0. 0. 0.]\n    [0. 0. 0. 0. 0.]]\n\n   [[0. 0. 0. 0. 0.]\n    [0. 0. 0. 0. 0.]\n    [0. 0. 0. 0. 0.]\n    [0. 0. 0. 0. 0.]\n    [0. 0. 0. 0. 0.]]\n\n   [[0. 0. 0. 0. 0.]\n    [0. 0. 0. 0. 0.]\n    [0. 0. 0. 0. 0.]\n    [0. 0. 0. 0. 0.]\n    [0. 0. 0. 0. 0.]]\n\n   [[0. 0. 0. 0. 0.]\n    [0. 0. 0. 0. 0.]\n    [0. 0. 0. 0. 0.]\n    [0. 0. 0. 0. 0.]\n    [0. 0. 0. 0. 0.]]]\n\n\n  [[[0. 0. 0. 0. 0.]\n    [0. 0. 0. 0. 0.]\n    [0. 0. 0. 0. 0.]\n    [0. 0. 0. 0. 0.]\n    [0. 0. 0. 0. 0.]]\n\n   [[0. 0. 0. 0. 0.]\n    [0. 0. 0. 0. 0.]\n    [0. 0. 0. 0. 0.]\n    [0. 0. 0. 0. 0.]\n    [0. 0. 0. 0. 0.]]\n\n   [[0. 0. 0. 0. 0.]\n    [0. 0. 0. 0. 0.]\n    [0. 0. 0. 0. 0.]\n    [0. 0. 0. 0. 0.]\n    [0. 0. 0. 0. 0.]]\n\n   [[0. 0. 0. 0. 0.]\n    [0. 0. 0. 0. 0.]\n    [0. 0. 0. 0. 0.]\n    [0. 0. 0. 0. 0.]\n    [0. 0. 0. 0. 0.]]\n\n   [[0. 0. 0. 0. 0.]\n    [0. 0. 0. 0. 0.]\n    [0. 0. 0. 0. 0.]\n    [0. 0. 0. 0. 0.]\n    [0. 0. 0. 0. 0.]]]\n\n\n  [[[0. 0. 0. 0. 0.]\n    [0. 0. 0. 0. 0.]\n    [0. 0. 0. 0. 0.]\n    [0. 0. 0. 0. 0.]\n    [0. 0. 0. 0. 0.]]\n\n   [[0. 0. 0. 0. 0.]\n    [0. 0. 0. 0. 0.]\n    [0. 0. 0. 0. 0.]\n    [0. 0. 0. 0. 0.]\n    [0. 0. 0. 0. 0.]]\n\n   [[0. 0. 0. 0. 0.]\n    [0. 0. 0. 0. 0.]\n    [0. 0. 0. 0. 0.]\n    [0. 0. 0. 0. 0.]\n    [0. 0. 0. 0. 0.]]\n\n   [[0. 0. 0. 0. 0.]\n    [0. 0. 0. 0. 0.]\n    [0. 0. 0. 0. 0.]\n    [0. 0. 0. 0. 0.]\n    [0. 0. 0. 0. 0.]]\n\n   [[0. 0. 0. 0. 0.]\n    [0. 0. 0. 0. 0.]\n    [0. 0. 0. 0. 0.]\n    [0. 0. 0. 0. 0.]\n    [0. 0. 0. 0. 0.]]]]\n\n\n\n [[[[0. 0. 0. 0. 0.]\n    [0. 0. 0. 0. 0.]\n    [0. 0. 0. 0. 0.]\n    [0. 0. 0. 0. 0.]\n    [0. 0. 0. 0. 0.]]\n\n   [[0. 0. 0. 0. 0.]\n    [0. 0. 0. 0. 0.]\n    [0. 0. 0. 0. 0.]\n    [0. 0. 0. 0. 0.]\n    [0. 0. 0. 0. 0.]]\n\n   [[0. 0. 0. 0. 0.]\n    [0. 0. 0. 0. 0.]\n    [0. 0. 0. 0. 0.]\n    [0. 0. 0. 0. 0.]\n    [0. 0. 0. 0. 0.]]\n\n   [[0. 0. 0. 0. 0.]\n    [0. 0. 0. 0. 0.]\n    [0. 0. 0. 0. 0.]\n    [0. 0. 0. 0. 0.]\n    [0. 0. 0. 0. 0.]]\n\n   [[0. 0. 0. 0. 0.]\n    [0. 0. 0. 0. 0.]\n    [0. 0. 0. 0. 0.]\n    [0. 0. 0. 0. 0.]\n    [0. 0. 0. 0. 0.]]]\n\n\n  [[[0. 0. 0. 0. 0.]\n    [0. 0. 0. 0. 0.]\n    [0. 0. 0. 0. 0.]\n    [0. 0. 0. 0. 0.]\n    [0. 0. 0. 0. 0.]]\n\n   [[0. 0. 0. 0. 0.]\n    [0. 0. 0. 0. 0.]\n    [0. 0. 0. 0. 0.]\n    [0. 0. 0. 0. 0.]\n    [0. 0. 0. 0. 0.]]\n\n   [[0. 0. 0. 0. 0.]\n    [0. 0. 0. 0. 0.]\n    [0. 0. 0. 0. 0.]\n    [0. 0. 0. 0. 0.]\n    [0. 0. 0. 0. 0.]]\n\n   [[0. 0. 0. 0. 0.]\n    [0. 0. 0. 0. 0.]\n    [0. 0. 0. 0. 0.]\n    [0. 0. 0. 0. 0.]\n    [0. 0. 0. 0. 0.]]\n\n   [[0. 0. 0. 0. 0.]\n    [0. 0. 0. 0. 0.]\n    [0. 0. 0. 0. 0.]\n    [0. 0. 0. 0. 0.]\n    [0. 0. 0. 0. 0.]]]\n\n\n  [[[0. 0. 0. 0. 0.]\n    [0. 0. 0. 0. 0.]\n    [0. 0. 0. 0. 0.]\n    [0. 0. 0. 0. 0.]\n    [0. 0. 0. 0. 0.]]\n\n   [[0. 0. 0. 0. 0.]\n    [0. 0. 0. 0. 0.]\n    [0. 0. 0. 0. 0.]\n    [0. 0. 0. 0. 0.]\n    [0. 0. 0. 0. 0.]]\n\n   [[0. 0. 0. 0. 0.]\n    [0. 0. 0. 0. 0.]\n    [0. 0. 0. 0. 0.]\n    [0. 0. 0. 0. 0.]\n    [0. 0. 0. 0. 0.]]\n\n   [[0. 0. 0. 0. 0.]\n    [0. 0. 0. 0. 0.]\n    [0. 0. 0. 0. 0.]\n    [0. 0. 0. 0. 0.]\n    [0. 0. 0. 0. 0.]]\n\n   [[0. 0. 0. 0. 0.]\n    [0. 0. 0. 0. 0.]\n    [0. 0. 0. 0. 0.]\n    [0. 0. 0. 0. 0.]\n    [0. 0. 0. 0. 0.]]]\n\n\n  [[[0. 0. 0. 0. 0.]\n    [0. 0. 0. 0. 0.]\n    [0. 0. 0. 0. 0.]\n    [0. 0. 0. 0. 0.]\n    [0. 0. 0. 0. 0.]]\n\n   [[0. 0. 0. 0. 0.]\n    [0. 0. 0. 0. 0.]\n    [0. 0. 0. 0. 0.]\n    [0. 0. 0. 0. 0.]\n    [0. 0. 0. 0. 0.]]\n\n   [[0. 0. 0. 0. 0.]\n    [0. 0. 0. 0. 0.]\n    [0. 0. 0. 0. 0.]\n    [0. 0. 0. 0. 0.]\n    [0. 0. 0. 0. 0.]]\n\n   [[0. 0. 0. 0. 0.]\n    [0. 0. 0. 0. 0.]\n    [0. 0. 0. 0. 0.]\n    [0. 0. 0. 0. 0.]\n    [0. 0. 0. 0. 0.]]\n\n   [[0. 0. 0. 0. 0.]\n    [0. 0. 0. 0. 0.]\n    [0. 0. 0. 0. 0.]\n    [0. 0. 0. 0. 0.]\n    [0. 0. 0. 0. 0.]]]\n\n\n  [[[0. 0. 0. 0. 0.]\n    [0. 0. 0. 0. 0.]\n    [0. 0. 0. 0. 0.]\n    [0. 0. 0. 0. 0.]\n    [0. 0. 0. 0. 0.]]\n\n   [[0. 0. 0. 0. 0.]\n    [0. 0. 0. 0. 0.]\n    [0. 0. 0. 0. 0.]\n    [0. 0. 0. 0. 0.]\n    [0. 0. 0. 0. 0.]]\n\n   [[0. 0. 0. 0. 0.]\n    [0. 0. 0. 0. 0.]\n    [0. 0. 0. 0. 0.]\n    [0. 0. 0. 0. 0.]\n    [0. 0. 0. 0. 0.]]\n\n   [[0. 0. 0. 0. 0.]\n    [0. 0. 0. 0. 0.]\n    [0. 0. 0. 0. 0.]\n    [0. 0. 0. 0. 0.]\n    [0. 0. 0. 0. 0.]]\n\n   [[0. 0. 0. 0. 0.]\n    [0. 0. 0. 0. 0.]\n    [0. 0. 0. 0. 0.]\n    [0. 0. 0. 0. 0.]\n    [0. 0. 0. 0. 0.]]]]\n\n\n\n [[[[0. 0. 0. 0. 0.]\n    [0. 0. 0. 0. 0.]\n    [0. 0. 0. 0. 0.]\n    [0. 0. 0. 0. 0.]\n    [0. 0. 0. 0. 0.]]\n\n   [[0. 0. 0. 0. 0.]\n    [0. 0. 0. 0. 0.]\n    [0. 0. 0. 0. 0.]\n    [0. 0. 0. 0. 0.]\n    [0. 0. 0. 0. 0.]]\n\n   [[0. 0. 0. 0. 0.]\n    [0. 0. 0. 0. 0.]\n    [0. 0. 0. 0. 0.]\n    [0. 0. 0. 0. 0.]\n    [0. 0. 0. 0. 0.]]\n\n   [[0. 0. 0. 0. 0.]\n    [0. 0. 0. 0. 0.]\n    [0. 0. 0. 0. 0.]\n    [0. 0. 0. 0. 0.]\n    [0. 0. 0. 0. 0.]]\n\n   [[0. 0. 0. 0. 0.]\n    [0. 0. 0. 0. 0.]\n    [0. 0. 0. 0. 0.]\n    [0. 0. 0. 0. 0.]\n    [0. 0. 0. 0. 0.]]]\n\n\n  [[[0. 0. 0. 0. 0.]\n    [0. 0. 0. 0. 0.]\n    [0. 0. 0. 0. 0.]\n    [0. 0. 0. 0. 0.]\n    [0. 0. 0. 0. 0.]]\n\n   [[0. 0. 0. 0. 0.]\n    [0. 0. 0. 0. 0.]\n    [0. 0. 0. 0. 0.]\n    [0. 0. 0. 0. 0.]\n    [0. 0. 0. 0. 0.]]\n\n   [[0. 0. 0. 0. 0.]\n    [0. 0. 0. 0. 0.]\n    [0. 0. 0. 0. 0.]\n    [0. 0. 0. 0. 0.]\n    [0. 0. 0. 0. 0.]]\n\n   [[0. 0. 0. 0. 0.]\n    [0. 0. 0. 0. 0.]\n    [0. 0. 0. 0. 0.]\n    [0. 0. 0. 0. 0.]\n    [0. 0. 0. 0. 0.]]\n\n   [[0. 0. 0. 0. 0.]\n    [0. 0. 0. 0. 0.]\n    [0. 0. 0. 0. 0.]\n    [0. 0. 0. 0. 0.]\n    [0. 0. 0. 0. 0.]]]\n\n\n  [[[0. 0. 0. 0. 0.]\n    [0. 0. 0. 0. 0.]\n    [0. 0. 0. 0. 0.]\n    [0. 0. 0. 0. 0.]\n    [0. 0. 0. 0. 0.]]\n\n   [[0. 0. 0. 0. 0.]\n    [0. 0. 0. 0. 0.]\n    [0. 0. 0. 0. 0.]\n    [0. 0. 0. 0. 0.]\n    [0. 0. 0. 0. 0.]]\n\n   [[0. 0. 0. 0. 0.]\n    [0. 0. 0. 0. 0.]\n    [0. 0. 0. 0. 0.]\n    [0. 0. 0. 0. 0.]\n    [0. 0. 0. 0. 0.]]\n\n   [[0. 0. 0. 0. 0.]\n    [0. 0. 0. 0. 0.]\n    [0. 0. 0. 0. 0.]\n    [0. 0. 0. 0. 0.]\n    [0. 0. 0. 0. 0.]]\n\n   [[0. 0. 0. 0. 0.]\n    [0. 0. 0. 0. 0.]\n    [0. 0. 0. 0. 0.]\n    [0. 0. 0. 0. 0.]\n    [0. 0. 0. 0. 0.]]]\n\n\n  [[[0. 0. 0. 0. 0.]\n    [0. 0. 0. 0. 0.]\n    [0. 0. 0. 0. 0.]\n    [0. 0. 0. 0. 0.]\n    [0. 0. 0. 0. 0.]]\n\n   [[0. 0. 0. 0. 0.]\n    [0. 0. 0. 0. 0.]\n    [0. 0. 0. 0. 0.]\n    [0. 0. 0. 0. 0.]\n    [0. 0. 0. 0. 0.]]\n\n   [[0. 0. 0. 0. 0.]\n    [0. 0. 0. 0. 0.]\n    [0. 0. 0. 0. 0.]\n    [0. 0. 0. 0. 0.]\n    [0. 0. 0. 0. 0.]]\n\n   [[0. 0. 0. 0. 0.]\n    [0. 0. 0. 0. 0.]\n    [0. 0. 0. 0. 0.]\n    [0. 0. 0. 0. 0.]\n    [0. 0. 0. 0. 0.]]\n\n   [[0. 0. 0. 0. 0.]\n    [0. 0. 0. 0. 0.]\n    [0. 0. 0. 0. 0.]\n    [0. 0. 0. 0. 0.]\n    [0. 0. 0. 0. 0.]]]\n\n\n  [[[0. 0. 0. 0. 0.]\n    [0. 0. 0. 0. 0.]\n    [0. 0. 0. 0. 0.]\n    [0. 0. 0. 0. 0.]\n    [0. 0. 0. 0. 0.]]\n\n   [[0. 0. 0. 0. 0.]\n    [0. 0. 0. 0. 0.]\n    [0. 0. 0. 0. 0.]\n    [0. 0. 0. 0. 0.]\n    [0. 0. 0. 0. 0.]]\n\n   [[0. 0. 0. 0. 0.]\n    [0. 0. 0. 0. 0.]\n    [0. 0. 0. 0. 0.]\n    [0. 0. 0. 0. 0.]\n    [0. 0. 0. 0. 0.]]\n\n   [[0. 0. 0. 0. 0.]\n    [0. 0. 0. 0. 0.]\n    [0. 0. 0. 0. 0.]\n    [0. 0. 0. 0. 0.]\n    [0. 0. 0. 0. 0.]]\n\n   [[0. 0. 0. 0. 0.]\n    [0. 0. 0. 0. 0.]\n    [0. 0. 0. 0. 0.]\n    [0. 0. 0. 0. 0.]\n    [0. 0. 0. 0. 0.]]]]\n\n\n\n [[[[0. 0. 0. 0. 0.]\n    [0. 0. 0. 0. 0.]\n    [0. 0. 0. 0. 0.]\n    [0. 0. 0. 0. 0.]\n    [0. 0. 0. 0. 0.]]\n\n   [[0. 0. 0. 0. 0.]\n    [0. 0. 0. 0. 0.]\n    [0. 0. 0. 0. 0.]\n    [0. 0. 0. 0. 0.]\n    [0. 0. 0. 0. 0.]]\n\n   [[0. 0. 0. 0. 0.]\n    [0. 0. 0. 0. 0.]\n    [0. 0. 0. 0. 0.]\n    [0. 0. 0. 0. 0.]\n    [0. 0. 0. 0. 0.]]\n\n   [[0. 0. 0. 0. 0.]\n    [0. 0. 0. 0. 0.]\n    [0. 0. 0. 0. 0.]\n    [0. 0. 0. 0. 0.]\n    [0. 0. 0. 0. 0.]]\n\n   [[0. 0. 0. 0. 0.]\n    [0. 0. 0. 0. 0.]\n    [0. 0. 0. 0. 0.]\n    [0. 0. 0. 0. 0.]\n    [0. 0. 0. 0. 0.]]]\n\n\n  [[[0. 0. 0. 0. 0.]\n    [0. 0. 0. 0. 0.]\n    [0. 0. 0. 0. 0.]\n    [0. 0. 0. 0. 0.]\n    [0. 0. 0. 0. 0.]]\n\n   [[0. 0. 0. 0. 0.]\n    [0. 0. 0. 0. 0.]\n    [0. 0. 0. 0. 0.]\n    [0. 0. 0. 0. 0.]\n    [0. 0. 0. 0. 0.]]\n\n   [[0. 0. 0. 0. 0.]\n    [0. 0. 0. 0. 0.]\n    [0. 0. 0. 0. 0.]\n    [0. 0. 0. 0. 0.]\n    [0. 0. 0. 0. 0.]]\n\n   [[0. 0. 0. 0. 0.]\n    [0. 0. 0. 0. 0.]\n    [0. 0. 0. 0. 0.]\n    [0. 0. 0. 0. 0.]\n    [0. 0. 0. 0. 0.]]\n\n   [[0. 0. 0. 0. 0.]\n    [0. 0. 0. 0. 0.]\n    [0. 0. 0. 0. 0.]\n    [0. 0. 0. 0. 0.]\n    [0. 0. 0. 0. 0.]]]\n\n\n  [[[0. 0. 0. 0. 0.]\n    [0. 0. 0. 0. 0.]\n    [0. 0. 0. 0. 0.]\n    [0. 0. 0. 0. 0.]\n    [0. 0. 0. 0. 0.]]\n\n   [[0. 0. 0. 0. 0.]\n    [0. 0. 0. 0. 0.]\n    [0. 0. 0. 0. 0.]\n    [0. 0. 0. 0. 0.]\n    [0. 0. 0. 0. 0.]]\n\n   [[0. 0. 0. 0. 0.]\n    [0. 0. 0. 0. 0.]\n    [0. 0. 0. 0. 0.]\n    [0. 0. 0. 0. 0.]\n    [0. 0. 0. 0. 0.]]\n\n   [[0. 0. 0. 0. 0.]\n    [0. 0. 0. 0. 0.]\n    [0. 0. 0. 0. 0.]\n    [0. 0. 0. 0. 0.]\n    [0. 0. 0. 0. 0.]]\n\n   [[0. 0. 0. 0. 0.]\n    [0. 0. 0. 0. 0.]\n    [0. 0. 0. 0. 0.]\n    [0. 0. 0. 0. 0.]\n    [0. 0. 0. 0. 0.]]]\n\n\n  [[[0. 0. 0. 0. 0.]\n    [0. 0. 0. 0. 0.]\n    [0. 0. 0. 0. 0.]\n    [0. 0. 0. 0. 0.]\n    [0. 0. 0. 0. 0.]]\n\n   [[0. 0. 0. 0. 0.]\n    [0. 0. 0. 0. 0.]\n    [0. 0. 0. 0. 0.]\n    [0. 0. 0. 0. 0.]\n    [0. 0. 0. 0. 0.]]\n\n   [[0. 0. 0. 0. 0.]\n    [0. 0. 0. 0. 0.]\n    [0. 0. 0. 0. 0.]\n    [0. 0. 0. 0. 0.]\n    [0. 0. 0. 0. 0.]]\n\n   [[0. 0. 0. 0. 0.]\n    [0. 0. 0. 0. 0.]\n    [0. 0. 0. 0. 0.]\n    [0. 0. 0. 0. 0.]\n    [0. 0. 0. 0. 0.]]\n\n   [[0. 0. 0. 0. 0.]\n    [0. 0. 0. 0. 0.]\n    [0. 0. 0. 0. 0.]\n    [0. 0. 0. 0. 0.]\n    [0. 0. 0. 0. 0.]]]\n\n\n  [[[0. 0. 0. 0. 0.]\n    [0. 0. 0. 0. 0.]\n    [0. 0. 0. 0. 0.]\n    [0. 0. 0. 0. 0.]\n    [0. 0. 0. 0. 0.]]\n\n   [[0. 0. 0. 0. 0.]\n    [0. 0. 0. 0. 0.]\n    [0. 0. 0. 0. 0.]\n    [0. 0. 0. 0. 0.]\n    [0. 0. 0. 0. 0.]]\n\n   [[0. 0. 0. 0. 0.]\n    [0. 0. 0. 0. 0.]\n    [0. 0. 0. 0. 0.]\n    [0. 0. 0. 0. 0.]\n    [0. 0. 0. 0. 0.]]\n\n   [[0. 0. 0. 0. 0.]\n    [0. 0. 0. 0. 0.]\n    [0. 0. 0. 0. 0.]\n    [0. 0. 0. 0. 0.]\n    [0. 0. 0. 0. 0.]]\n\n   [[0. 0. 0. 0. 0.]\n    [0. 0. 0. 0. 0.]\n    [0. 0. 0. 0. 0.]\n    [0. 0. 0. 0. 0.]\n    [0. 0. 0. 0. 0.]]]]], shape=(5, 5, 5, 5, 5), dtype=float32)\n"
     ]
    }
   ],
   "source": [
    "print(t)"
   ]
  },
  {
   "cell_type": "code",
   "execution_count": 17,
   "metadata": {},
   "outputs": [
    {
     "output_type": "stream",
     "name": "stdout",
     "text": [
      "tf.Tensor([0. 0. 0. ... 0. 0. 0.], shape=(3125,), dtype=float32)\n"
     ]
    }
   ],
   "source": [
    "t = tf.reshape(t,[-1])\n",
    "print(t)"
   ]
  },
  {
   "cell_type": "code",
   "execution_count": 21,
   "metadata": {},
   "outputs": [
    {
     "output_type": "stream",
     "name": "stdout",
     "text": [
      "tf.Tensor(\n[[0. 0. 0. ... 0. 0. 0.]\n [0. 0. 0. ... 0. 0. 0.]\n [0. 0. 0. ... 0. 0. 0.]\n [0. 0. 0. ... 0. 0. 0.]\n [0. 0. 0. ... 0. 0. 0.]], shape=(5, 625), dtype=float32)\n"
     ]
    }
   ],
   "source": [
    "t =tf.reshape(t, [5,-1])\n",
    "print(t)"
   ]
  },
  {
   "source": [
    "# Algoritmos nucleares de TensorFlow\n",
    "\n",
    "Al final del dia, ML no es más que una forma automatizada de reconocer patrones. Los principales algoritmos son: \n",
    "\n",
    "- Regresión lineal.\n",
    "- Clasificación\n",
    "- Clustering\n",
    "- Modelos de Markkov\n"
   ],
   "cell_type": "markdown",
   "metadata": {}
  },
  {
   "source": [
    "En todo momento vamos a estar usando grupos de datos, asi que se requiere un dominio básico de la librería de numpy y pandas.\n",
    "\n",
    "Vamos a utilizar dos tipos de sets de datos, datos de entrenamiento sobre los que entrenar nuestro algoritmo y un set de test"
   ],
   "cell_type": "markdown",
   "metadata": {}
  },
  {
   "cell_type": "code",
   "execution_count": null,
   "metadata": {},
   "outputs": [],
   "source": [
    "CATEGORICAL_COLUMNS = ['sex', 'n_siblings_spouses', 'parch', 'class', 'deck',\n",
    "                       'embark_town', 'alone']\n",
    "NUMERIC_COLUMNS = ['age', 'fare']\n",
    "\n",
    "feature_columns = []\n",
    "for feature_name in CATEGORICAL_COLUMNS:\n",
    "  vocabulary = dftrain[feature_name].unique()  # gets a list of all unique values from given feature column\n",
    "  feature_columns.append(tf.feature_column.categorical_column_with_vocabulary_list(feature_name, vocabulary))\n",
    "\n",
    "for feature_name in NUMERIC_COLUMNS:\n",
    "  feature_columns.append(tf.feature_column.numeric_column(feature_name, dtype=tf.float32))\n",
    "\n",
    "print(feature_columns)"
   ]
  },
  {
   "cell_type": "code",
   "execution_count": null,
   "metadata": {},
   "outputs": [],
   "source": [
    "from __future__ import absolute_import, division, print_function, unicode_literals\n",
    "\n",
    "import numpy as np\n",
    "import pandas as pd\n",
    "import matplotlib.pyplot as plt\n",
    "from IPython.display import clear_output\n",
    "from six.moves import urllib\n",
    "\n",
    "import tensorflow.compat.v2.feature_column as fc\n",
    "\n",
    "import tensorflow as tf\n",
    "\n",
    "# Load dataset.\n",
    "dftrain = pd.read_csv('https://storage.googleapis.com/tf-datasets/titanic/train.csv') # training data\n",
    "dfeval = pd.read_csv('https://storage.googleapis.com/tf-datasets/titanic/eval.csv') # testing data\n",
    "y_train = dftrain.pop('survived')\n",
    "y_eval = dfeval.pop('survived')\n"
   ]
  },
  {
   "source": [
    "# Proceso de Entrenamiento \n",
    "\n",
    "Una vez hemos selccionado nuestro algoritmo, tenemos que darle los datos al modelo para que pueda procesarlos y extrapolar conclusiones. Los datos se implementan en paquetes de forma automatica (paquetes de 32 datos). El **epoch** es el número de veces que le damos al modelo el mismo paquete de datos para que pueda procesarlos más adelante. Esto es importante ya que las primeras veces que un modelo trata un paquete de datos no va a ser capaz de trabajar de forma adecuada con este. \n",
    "\n",
    "Para programar como configuramos los paquetes y los epochs, tenemos que programar una función de input de datos.\n"
   ],
   "cell_type": "markdown",
   "metadata": {}
  },
  {
   "cell_type": "code",
   "execution_count": null,
   "metadata": {},
   "outputs": [],
   "source": [
    "def make_input_fn(data_df, label_df, num_epochs=10, shuffle=True, batch_size=32):\r\n",
    "  def input_function():  # inner function, this will be returned\r\n",
    "    ds = tf.data.Dataset.from_tensor_slices((dict(data_df), label_df))  # create tf.data.Dataset object with data and its label\r\n",
    "    if shuffle:\r\n",
    "      ds = ds.shuffle(1000)  # randomize order of data\r\n",
    "    ds = ds.batch(batch_size).repeat(num_epochs)  # split dataset into batches of 32 and repeat process for number of epochs\r\n",
    "    return ds  # return a batch of the dataset\r\n",
    "  return input_function  # return a function object for use\r\n",
    "\r\n",
    "train_input_fn = make_input_fn(dftrain, y_train)  # here we will call the input_function that was returned to us to get a dataset object we can feed to the model\r\n",
    "eval_input_fn = make_input_fn(dfeval, y_eval, num_epochs=1, shuffle=False)\r\n"
   ]
  },
  {
   "source": [
    "# Crear un modelo que manipular"
   ],
   "cell_type": "markdown",
   "metadata": {}
  },
  {
   "cell_type": "code",
   "execution_count": 22,
   "metadata": {},
   "outputs": [
    {
     "output_type": "error",
     "ename": "NameError",
     "evalue": "name 'feature_columns' is not defined",
     "traceback": [
      "\u001b[1;31m---------------------------------------------------------------------------\u001b[0m",
      "\u001b[1;31mNameError\u001b[0m                                 Traceback (most recent call last)",
      "\u001b[1;32m<ipython-input-22-c8e208608cf1>\u001b[0m in \u001b[0;36m<module>\u001b[1;34m\u001b[0m\n\u001b[1;32m----> 1\u001b[1;33m \u001b[0mlinear_est\u001b[0m \u001b[1;33m=\u001b[0m \u001b[0mtf\u001b[0m\u001b[1;33m.\u001b[0m\u001b[0mestimator\u001b[0m\u001b[1;33m.\u001b[0m\u001b[0mLinearClassifier\u001b[0m\u001b[1;33m(\u001b[0m\u001b[0mfeature_columns\u001b[0m\u001b[1;33m=\u001b[0m\u001b[0mfeature_columns\u001b[0m\u001b[1;33m)\u001b[0m\u001b[1;33m\u001b[0m\u001b[1;33m\u001b[0m\u001b[0m\n\u001b[0m\u001b[0;32m      2\u001b[0m \u001b[1;31m# We create a linear estimtor by passing the feature columns we created earlier\u001b[0m\u001b[1;33m\u001b[0m\u001b[1;33m\u001b[0m\u001b[1;33m\u001b[0m\u001b[0m\n",
      "\u001b[1;31mNameError\u001b[0m: name 'feature_columns' is not defined"
     ]
    }
   ],
   "source": [
    "linear_est = tf.estimator.LinearClassifier(feature_columns=feature_columns)\n",
    "# We create a linear estimtor by passing the feature columns we created earlier"
   ]
  },
  {
   "source": [
    "# Entrenar un modelo"
   ],
   "cell_type": "markdown",
   "metadata": {}
  },
  {
   "cell_type": "code",
   "execution_count": null,
   "metadata": {},
   "outputs": [],
   "source": [
    "linear_est.train(train_input_fn)  # train\n",
    "result = linear_est.evaluate(eval_input_fn)  # get model metrics/stats by testing on tetsing data\n",
    "\n",
    "clear_output()  # clears console output\n",
    "print(result['accuracy'])  # the result variable is simply a dict of stats about our model"
   ]
  }
 ]
}