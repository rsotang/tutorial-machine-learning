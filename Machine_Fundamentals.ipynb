{
 "metadata": {
  "language_info": {
   "codemirror_mode": {
    "name": "ipython",
    "version": 3
   },
   "file_extension": ".py",
   "mimetype": "text/x-python",
   "name": "python",
   "nbconvert_exporter": "python",
   "pygments_lexer": "ipython3",
   "version": "3.9.0"
  },
  "orig_nbformat": 2,
  "kernelspec": {
   "name": "python390jvsc74a57bd08b50c36b1a33f6cb46e2526f835ef1ab8287e96c456ed044702ee8742d8def96",
   "display_name": "Python 3.9.0 64-bit"
  },
  "metadata": {
   "interpreter": {
    "hash": "8b50c36b1a33f6cb46e2526f835ef1ab8287e96c456ed044702ee8742d8def96"
   }
  }
 },
 "nbformat": 4,
 "nbformat_minor": 2,
 "cells": [
  {
   "source": [
    "# Conceptos basicos\n"
   ],
   "cell_type": "markdown",
   "metadata": {}
  },
  {
   "source": [
    "Hablar de inteligencia artificial es un concepto bastante amplio que agrupa varios tipos de tecnología. Los primeros tipos de IA consisten es simular una serie de tareas intelectuales mediante el establecimiento o algortimia de todas las reglas que programan una tarea.\n",
    "\n",
    "El Machine learning consiste en un tipo de IA que es capaz de generar las propias dentro del sistema problema dándole datos y las supuestas respuestas, de tal forma que algoritimicamente podemos predecirlas.\n",
    "\n",
    "Las Redes Neuronales, son un tipo de mecanismo usado en ML en el cual añadimos mas sets de reglas (funciones, aplicaciones) entre unos inputs y unos outputs. Es un tipo de estructura de extracción de información en varias fases.\n",
    "\n",
    "\n",
    "\n",
    "\n"
   ],
   "cell_type": "markdown",
   "metadata": {}
  },
  {
   "source": [
    "Para ML vamos a utilizar una libreria que se basa en el uso de arrays como tensores, y todas las matematicas chulis que podemos hacer con ellos.\n",
    "Recordemos que no tenemos ni idea de lo que es un tensor, más alla de una cosa que se transforma como un tensor, así que para esta tarea en concreto, vamos a considerarlos una generalización de vectores en n-dim.\n",
    "\n",
    "En TensorFlow, hay una variable /objeto concreta que es el tensor. La libreria funciona mediante la relación con grafos de esos objetos.\n",
    "\n",
    "Los tensores pueden almacenar distintos tipos de datos en sus componentes, y tomar distintos valores en sus dimensiones.\n",
    "\n",
    "Cualquier variable creada dentro de la libreria de TensorFlow es un tensor que puede tener estas caracteristicas\n",
    "\n",
    "\n",
    "\n",
    " "
   ],
   "cell_type": "markdown",
   "metadata": {}
  },
  {
   "cell_type": "code",
   "execution_count": 2,
   "metadata": {},
   "outputs": [],
   "source": [
    "import tensorflow as tf \n"
   ]
  },
  {
   "cell_type": "code",
   "execution_count": 4,
   "metadata": {},
   "outputs": [],
   "source": [
    "string = tf.Variable(\"string\",tf.string)\n",
    "number = tf.Variable(12,tf.int16)\n",
    "floating= tf.Variable(3.5, tf.float64)"
   ]
  },
  {
   "source": [
    "La dimension del tensor creado de esta forma es la automatica según la libreria, pero podemos controlar la dimension del escalar en su creación utilizando listas como inputs."
   ],
   "cell_type": "markdown",
   "metadata": {}
  },
  {
   "cell_type": "code",
   "execution_count": 6,
   "metadata": {},
   "outputs": [],
   "source": [
    "escalar = tf.Variable([\"cosastring\",\"cosastring2\"],tf.string)\n",
    "matriz = tf.Variable([[\"primera cosa\",\"segunda cosa\"],[\"otra cosa\",\"otrascosas\"]],tf.string)"
   ]
  },
  {
   "source": [
    "Además pudemos utilizar la función de la libreria .rank() para saber la dimensión de un tensor."
   ],
   "cell_type": "markdown",
   "metadata": {}
  },
  {
   "cell_type": "code",
   "execution_count": 7,
   "metadata": {},
   "outputs": [
    {
     "output_type": "execute_result",
     "data": {
      "text/plain": [
       "<tf.Tensor: shape=(), dtype=int32, numpy=2>"
      ]
     },
     "metadata": {},
     "execution_count": 7
    }
   ],
   "source": [
    "tf.rank(matriz)"
   ]
  },
  {
   "source": [
    "El numero de elementos distribuidos por la forma del tensor es la shape del tensor, se calcula como un método de los objetos tipo tf."
   ],
   "cell_type": "markdown",
   "metadata": {}
  },
  {
   "cell_type": "code",
   "execution_count": 9,
   "metadata": {},
   "outputs": [
    {
     "output_type": "execute_result",
     "data": {
      "text/plain": [
       "TensorShape([2])"
      ]
     },
     "metadata": {},
     "execution_count": 9
    }
   ],
   "source": [
    "escalar.shape"
   ]
  },
  {
   "source": [
    "La respuesta son el numero de filas como [] con el numero de elementos en su interior\n"
   ],
   "cell_type": "markdown",
   "metadata": {}
  },
  {
   "source": [
    "Podemos cambiar la forma de los tensores jugando con los metodos de tf como reshape y otros, siempre teniendo en cuenta que el numero de elementos en transformaciones ha de permanecer constante."
   ],
   "cell_type": "markdown",
   "metadata": {}
  },
  {
   "cell_type": "code",
   "execution_count": 10,
   "metadata": {},
   "outputs": [],
   "source": [
    "tensor1 =tf.ones([1,2,3]) #tf.ones() crea una forma con 1,2,3 lleno de unos (1 lista con dos listas con 3 elementos cada una, ese elemento es el uno)\n",
    "tensor2=tf.reshape(tensor1,[2,3,1]) #con este metodo transformamos un tensor objetivo en el orden que hemos descrito ( dos listas con tres listas con 1 elemento cada una)\n",
    "tensor3= tf.reshape(tensor2,[3,-1]) #hacemos lo mismo pero utilizando el atajo-1, esto lo que hace es que la librería calcula el tamaño de la dimensión en ese lugar de forma automatica (3 listas con todos los elementos repartidas de forma equitativa, en este caso 2 por lista)\n"
   ]
  },
  {
   "cell_type": "code",
   "execution_count": 12,
   "metadata": {},
   "outputs": [
    {
     "output_type": "stream",
     "name": "stdout",
     "text": [
      "tf.Tensor(\n[[[1. 1. 1.]\n  [1. 1. 1.]]], shape=(1, 2, 3), dtype=float32)\ntf.Tensor(\n[[[1.]\n  [1.]\n  [1.]]\n\n [[1.]\n  [1.]\n  [1.]]], shape=(2, 3, 1), dtype=float32)\ntf.Tensor(\n[[1. 1.]\n [1. 1.]\n [1. 1.]], shape=(3, 2), dtype=float32)\n"
     ]
    }
   ],
   "source": [
    "print(tensor1)\n",
    "print(tensor2)\n",
    "print(tensor3)\n"
   ]
  },
  {
   "source": [
    "### Tipos de tensores\n",
    "\n",
    "Los tipos más comunes de tensores (creado utilizando funciones del paquete tf.) son \n",
    "\n",
    "- Variable\n",
    "- Constant\n",
    "- Placeholder \n",
    "- SparseTensor \n",
    "\n",
    "Siendo todos, menos Variable, objetos inmutables.\n",
    "\n",
    "Vamos a hacer un miniejemplo de transformaciones"
   ],
   "cell_type": "markdown",
   "metadata": {}
  },
  {
   "cell_type": "code",
   "execution_count": 13,
   "metadata": {},
   "outputs": [],
   "source": [
    "t = tf.zeros([5,5,5,5,5])"
   ]
  },
  {
   "cell_type": "code",
   "execution_count": 15,
   "metadata": {},
   "outputs": [
    {
     "output_type": "stream",
     "name": "stdout",
     "text": [
      "tf.Tensor(\n[[[[[0. 0. 0. 0. 0.]\n    [0. 0. 0. 0. 0.]\n    [0. 0. 0. 0. 0.]\n    [0. 0. 0. 0. 0.]\n    [0. 0. 0. 0. 0.]]\n\n   [[0. 0. 0. 0. 0.]\n    [0. 0. 0. 0. 0.]\n    [0. 0. 0. 0. 0.]\n    [0. 0. 0. 0. 0.]\n    [0. 0. 0. 0. 0.]]\n\n   [[0. 0. 0. 0. 0.]\n    [0. 0. 0. 0. 0.]\n    [0. 0. 0. 0. 0.]\n    [0. 0. 0. 0. 0.]\n    [0. 0. 0. 0. 0.]]\n\n   [[0. 0. 0. 0. 0.]\n    [0. 0. 0. 0. 0.]\n    [0. 0. 0. 0. 0.]\n    [0. 0. 0. 0. 0.]\n    [0. 0. 0. 0. 0.]]\n\n   [[0. 0. 0. 0. 0.]\n    [0. 0. 0. 0. 0.]\n    [0. 0. 0. 0. 0.]\n    [0. 0. 0. 0. 0.]\n    [0. 0. 0. 0. 0.]]]\n\n\n  [[[0. 0. 0. 0. 0.]\n    [0. 0. 0. 0. 0.]\n    [0. 0. 0. 0. 0.]\n    [0. 0. 0. 0. 0.]\n    [0. 0. 0. 0. 0.]]\n\n   [[0. 0. 0. 0. 0.]\n    [0. 0. 0. 0. 0.]\n    [0. 0. 0. 0. 0.]\n    [0. 0. 0. 0. 0.]\n    [0. 0. 0. 0. 0.]]\n\n   [[0. 0. 0. 0. 0.]\n    [0. 0. 0. 0. 0.]\n    [0. 0. 0. 0. 0.]\n    [0. 0. 0. 0. 0.]\n    [0. 0. 0. 0. 0.]]\n\n   [[0. 0. 0. 0. 0.]\n    [0. 0. 0. 0. 0.]\n    [0. 0. 0. 0. 0.]\n    [0. 0. 0. 0. 0.]\n    [0. 0. 0. 0. 0.]]\n\n   [[0. 0. 0. 0. 0.]\n    [0. 0. 0. 0. 0.]\n    [0. 0. 0. 0. 0.]\n    [0. 0. 0. 0. 0.]\n    [0. 0. 0. 0. 0.]]]\n\n\n  [[[0. 0. 0. 0. 0.]\n    [0. 0. 0. 0. 0.]\n    [0. 0. 0. 0. 0.]\n    [0. 0. 0. 0. 0.]\n    [0. 0. 0. 0. 0.]]\n\n   [[0. 0. 0. 0. 0.]\n    [0. 0. 0. 0. 0.]\n    [0. 0. 0. 0. 0.]\n    [0. 0. 0. 0. 0.]\n    [0. 0. 0. 0. 0.]]\n\n   [[0. 0. 0. 0. 0.]\n    [0. 0. 0. 0. 0.]\n    [0. 0. 0. 0. 0.]\n    [0. 0. 0. 0. 0.]\n    [0. 0. 0. 0. 0.]]\n\n   [[0. 0. 0. 0. 0.]\n    [0. 0. 0. 0. 0.]\n    [0. 0. 0. 0. 0.]\n    [0. 0. 0. 0. 0.]\n    [0. 0. 0. 0. 0.]]\n\n   [[0. 0. 0. 0. 0.]\n    [0. 0. 0. 0. 0.]\n    [0. 0. 0. 0. 0.]\n    [0. 0. 0. 0. 0.]\n    [0. 0. 0. 0. 0.]]]\n\n\n  [[[0. 0. 0. 0. 0.]\n    [0. 0. 0. 0. 0.]\n    [0. 0. 0. 0. 0.]\n    [0. 0. 0. 0. 0.]\n    [0. 0. 0. 0. 0.]]\n\n   [[0. 0. 0. 0. 0.]\n    [0. 0. 0. 0. 0.]\n    [0. 0. 0. 0. 0.]\n    [0. 0. 0. 0. 0.]\n    [0. 0. 0. 0. 0.]]\n\n   [[0. 0. 0. 0. 0.]\n    [0. 0. 0. 0. 0.]\n    [0. 0. 0. 0. 0.]\n    [0. 0. 0. 0. 0.]\n    [0. 0. 0. 0. 0.]]\n\n   [[0. 0. 0. 0. 0.]\n    [0. 0. 0. 0. 0.]\n    [0. 0. 0. 0. 0.]\n    [0. 0. 0. 0. 0.]\n    [0. 0. 0. 0. 0.]]\n\n   [[0. 0. 0. 0. 0.]\n    [0. 0. 0. 0. 0.]\n    [0. 0. 0. 0. 0.]\n    [0. 0. 0. 0. 0.]\n    [0. 0. 0. 0. 0.]]]\n\n\n  [[[0. 0. 0. 0. 0.]\n    [0. 0. 0. 0. 0.]\n    [0. 0. 0. 0. 0.]\n    [0. 0. 0. 0. 0.]\n    [0. 0. 0. 0. 0.]]\n\n   [[0. 0. 0. 0. 0.]\n    [0. 0. 0. 0. 0.]\n    [0. 0. 0. 0. 0.]\n    [0. 0. 0. 0. 0.]\n    [0. 0. 0. 0. 0.]]\n\n   [[0. 0. 0. 0. 0.]\n    [0. 0. 0. 0. 0.]\n    [0. 0. 0. 0. 0.]\n    [0. 0. 0. 0. 0.]\n    [0. 0. 0. 0. 0.]]\n\n   [[0. 0. 0. 0. 0.]\n    [0. 0. 0. 0. 0.]\n    [0. 0. 0. 0. 0.]\n    [0. 0. 0. 0. 0.]\n    [0. 0. 0. 0. 0.]]\n\n   [[0. 0. 0. 0. 0.]\n    [0. 0. 0. 0. 0.]\n    [0. 0. 0. 0. 0.]\n    [0. 0. 0. 0. 0.]\n    [0. 0. 0. 0. 0.]]]]\n\n\n\n [[[[0. 0. 0. 0. 0.]\n    [0. 0. 0. 0. 0.]\n    [0. 0. 0. 0. 0.]\n    [0. 0. 0. 0. 0.]\n    [0. 0. 0. 0. 0.]]\n\n   [[0. 0. 0. 0. 0.]\n    [0. 0. 0. 0. 0.]\n    [0. 0. 0. 0. 0.]\n    [0. 0. 0. 0. 0.]\n    [0. 0. 0. 0. 0.]]\n\n   [[0. 0. 0. 0. 0.]\n    [0. 0. 0. 0. 0.]\n    [0. 0. 0. 0. 0.]\n    [0. 0. 0. 0. 0.]\n    [0. 0. 0. 0. 0.]]\n\n   [[0. 0. 0. 0. 0.]\n    [0. 0. 0. 0. 0.]\n    [0. 0. 0. 0. 0.]\n    [0. 0. 0. 0. 0.]\n    [0. 0. 0. 0. 0.]]\n\n   [[0. 0. 0. 0. 0.]\n    [0. 0. 0. 0. 0.]\n    [0. 0. 0. 0. 0.]\n    [0. 0. 0. 0. 0.]\n    [0. 0. 0. 0. 0.]]]\n\n\n  [[[0. 0. 0. 0. 0.]\n    [0. 0. 0. 0. 0.]\n    [0. 0. 0. 0. 0.]\n    [0. 0. 0. 0. 0.]\n    [0. 0. 0. 0. 0.]]\n\n   [[0. 0. 0. 0. 0.]\n    [0. 0. 0. 0. 0.]\n    [0. 0. 0. 0. 0.]\n    [0. 0. 0. 0. 0.]\n    [0. 0. 0. 0. 0.]]\n\n   [[0. 0. 0. 0. 0.]\n    [0. 0. 0. 0. 0.]\n    [0. 0. 0. 0. 0.]\n    [0. 0. 0. 0. 0.]\n    [0. 0. 0. 0. 0.]]\n\n   [[0. 0. 0. 0. 0.]\n    [0. 0. 0. 0. 0.]\n    [0. 0. 0. 0. 0.]\n    [0. 0. 0. 0. 0.]\n    [0. 0. 0. 0. 0.]]\n\n   [[0. 0. 0. 0. 0.]\n    [0. 0. 0. 0. 0.]\n    [0. 0. 0. 0. 0.]\n    [0. 0. 0. 0. 0.]\n    [0. 0. 0. 0. 0.]]]\n\n\n  [[[0. 0. 0. 0. 0.]\n    [0. 0. 0. 0. 0.]\n    [0. 0. 0. 0. 0.]\n    [0. 0. 0. 0. 0.]\n    [0. 0. 0. 0. 0.]]\n\n   [[0. 0. 0. 0. 0.]\n    [0. 0. 0. 0. 0.]\n    [0. 0. 0. 0. 0.]\n    [0. 0. 0. 0. 0.]\n    [0. 0. 0. 0. 0.]]\n\n   [[0. 0. 0. 0. 0.]\n    [0. 0. 0. 0. 0.]\n    [0. 0. 0. 0. 0.]\n    [0. 0. 0. 0. 0.]\n    [0. 0. 0. 0. 0.]]\n\n   [[0. 0. 0. 0. 0.]\n    [0. 0. 0. 0. 0.]\n    [0. 0. 0. 0. 0.]\n    [0. 0. 0. 0. 0.]\n    [0. 0. 0. 0. 0.]]\n\n   [[0. 0. 0. 0. 0.]\n    [0. 0. 0. 0. 0.]\n    [0. 0. 0. 0. 0.]\n    [0. 0. 0. 0. 0.]\n    [0. 0. 0. 0. 0.]]]\n\n\n  [[[0. 0. 0. 0. 0.]\n    [0. 0. 0. 0. 0.]\n    [0. 0. 0. 0. 0.]\n    [0. 0. 0. 0. 0.]\n    [0. 0. 0. 0. 0.]]\n\n   [[0. 0. 0. 0. 0.]\n    [0. 0. 0. 0. 0.]\n    [0. 0. 0. 0. 0.]\n    [0. 0. 0. 0. 0.]\n    [0. 0. 0. 0. 0.]]\n\n   [[0. 0. 0. 0. 0.]\n    [0. 0. 0. 0. 0.]\n    [0. 0. 0. 0. 0.]\n    [0. 0. 0. 0. 0.]\n    [0. 0. 0. 0. 0.]]\n\n   [[0. 0. 0. 0. 0.]\n    [0. 0. 0. 0. 0.]\n    [0. 0. 0. 0. 0.]\n    [0. 0. 0. 0. 0.]\n    [0. 0. 0. 0. 0.]]\n\n   [[0. 0. 0. 0. 0.]\n    [0. 0. 0. 0. 0.]\n    [0. 0. 0. 0. 0.]\n    [0. 0. 0. 0. 0.]\n    [0. 0. 0. 0. 0.]]]\n\n\n  [[[0. 0. 0. 0. 0.]\n    [0. 0. 0. 0. 0.]\n    [0. 0. 0. 0. 0.]\n    [0. 0. 0. 0. 0.]\n    [0. 0. 0. 0. 0.]]\n\n   [[0. 0. 0. 0. 0.]\n    [0. 0. 0. 0. 0.]\n    [0. 0. 0. 0. 0.]\n    [0. 0. 0. 0. 0.]\n    [0. 0. 0. 0. 0.]]\n\n   [[0. 0. 0. 0. 0.]\n    [0. 0. 0. 0. 0.]\n    [0. 0. 0. 0. 0.]\n    [0. 0. 0. 0. 0.]\n    [0. 0. 0. 0. 0.]]\n\n   [[0. 0. 0. 0. 0.]\n    [0. 0. 0. 0. 0.]\n    [0. 0. 0. 0. 0.]\n    [0. 0. 0. 0. 0.]\n    [0. 0. 0. 0. 0.]]\n\n   [[0. 0. 0. 0. 0.]\n    [0. 0. 0. 0. 0.]\n    [0. 0. 0. 0. 0.]\n    [0. 0. 0. 0. 0.]\n    [0. 0. 0. 0. 0.]]]]\n\n\n\n [[[[0. 0. 0. 0. 0.]\n    [0. 0. 0. 0. 0.]\n    [0. 0. 0. 0. 0.]\n    [0. 0. 0. 0. 0.]\n    [0. 0. 0. 0. 0.]]\n\n   [[0. 0. 0. 0. 0.]\n    [0. 0. 0. 0. 0.]\n    [0. 0. 0. 0. 0.]\n    [0. 0. 0. 0. 0.]\n    [0. 0. 0. 0. 0.]]\n\n   [[0. 0. 0. 0. 0.]\n    [0. 0. 0. 0. 0.]\n    [0. 0. 0. 0. 0.]\n    [0. 0. 0. 0. 0.]\n    [0. 0. 0. 0. 0.]]\n\n   [[0. 0. 0. 0. 0.]\n    [0. 0. 0. 0. 0.]\n    [0. 0. 0. 0. 0.]\n    [0. 0. 0. 0. 0.]\n    [0. 0. 0. 0. 0.]]\n\n   [[0. 0. 0. 0. 0.]\n    [0. 0. 0. 0. 0.]\n    [0. 0. 0. 0. 0.]\n    [0. 0. 0. 0. 0.]\n    [0. 0. 0. 0. 0.]]]\n\n\n  [[[0. 0. 0. 0. 0.]\n    [0. 0. 0. 0. 0.]\n    [0. 0. 0. 0. 0.]\n    [0. 0. 0. 0. 0.]\n    [0. 0. 0. 0. 0.]]\n\n   [[0. 0. 0. 0. 0.]\n    [0. 0. 0. 0. 0.]\n    [0. 0. 0. 0. 0.]\n    [0. 0. 0. 0. 0.]\n    [0. 0. 0. 0. 0.]]\n\n   [[0. 0. 0. 0. 0.]\n    [0. 0. 0. 0. 0.]\n    [0. 0. 0. 0. 0.]\n    [0. 0. 0. 0. 0.]\n    [0. 0. 0. 0. 0.]]\n\n   [[0. 0. 0. 0. 0.]\n    [0. 0. 0. 0. 0.]\n    [0. 0. 0. 0. 0.]\n    [0. 0. 0. 0. 0.]\n    [0. 0. 0. 0. 0.]]\n\n   [[0. 0. 0. 0. 0.]\n    [0. 0. 0. 0. 0.]\n    [0. 0. 0. 0. 0.]\n    [0. 0. 0. 0. 0.]\n    [0. 0. 0. 0. 0.]]]\n\n\n  [[[0. 0. 0. 0. 0.]\n    [0. 0. 0. 0. 0.]\n    [0. 0. 0. 0. 0.]\n    [0. 0. 0. 0. 0.]\n    [0. 0. 0. 0. 0.]]\n\n   [[0. 0. 0. 0. 0.]\n    [0. 0. 0. 0. 0.]\n    [0. 0. 0. 0. 0.]\n    [0. 0. 0. 0. 0.]\n    [0. 0. 0. 0. 0.]]\n\n   [[0. 0. 0. 0. 0.]\n    [0. 0. 0. 0. 0.]\n    [0. 0. 0. 0. 0.]\n    [0. 0. 0. 0. 0.]\n    [0. 0. 0. 0. 0.]]\n\n   [[0. 0. 0. 0. 0.]\n    [0. 0. 0. 0. 0.]\n    [0. 0. 0. 0. 0.]\n    [0. 0. 0. 0. 0.]\n    [0. 0. 0. 0. 0.]]\n\n   [[0. 0. 0. 0. 0.]\n    [0. 0. 0. 0. 0.]\n    [0. 0. 0. 0. 0.]\n    [0. 0. 0. 0. 0.]\n    [0. 0. 0. 0. 0.]]]\n\n\n  [[[0. 0. 0. 0. 0.]\n    [0. 0. 0. 0. 0.]\n    [0. 0. 0. 0. 0.]\n    [0. 0. 0. 0. 0.]\n    [0. 0. 0. 0. 0.]]\n\n   [[0. 0. 0. 0. 0.]\n    [0. 0. 0. 0. 0.]\n    [0. 0. 0. 0. 0.]\n    [0. 0. 0. 0. 0.]\n    [0. 0. 0. 0. 0.]]\n\n   [[0. 0. 0. 0. 0.]\n    [0. 0. 0. 0. 0.]\n    [0. 0. 0. 0. 0.]\n    [0. 0. 0. 0. 0.]\n    [0. 0. 0. 0. 0.]]\n\n   [[0. 0. 0. 0. 0.]\n    [0. 0. 0. 0. 0.]\n    [0. 0. 0. 0. 0.]\n    [0. 0. 0. 0. 0.]\n    [0. 0. 0. 0. 0.]]\n\n   [[0. 0. 0. 0. 0.]\n    [0. 0. 0. 0. 0.]\n    [0. 0. 0. 0. 0.]\n    [0. 0. 0. 0. 0.]\n    [0. 0. 0. 0. 0.]]]\n\n\n  [[[0. 0. 0. 0. 0.]\n    [0. 0. 0. 0. 0.]\n    [0. 0. 0. 0. 0.]\n    [0. 0. 0. 0. 0.]\n    [0. 0. 0. 0. 0.]]\n\n   [[0. 0. 0. 0. 0.]\n    [0. 0. 0. 0. 0.]\n    [0. 0. 0. 0. 0.]\n    [0. 0. 0. 0. 0.]\n    [0. 0. 0. 0. 0.]]\n\n   [[0. 0. 0. 0. 0.]\n    [0. 0. 0. 0. 0.]\n    [0. 0. 0. 0. 0.]\n    [0. 0. 0. 0. 0.]\n    [0. 0. 0. 0. 0.]]\n\n   [[0. 0. 0. 0. 0.]\n    [0. 0. 0. 0. 0.]\n    [0. 0. 0. 0. 0.]\n    [0. 0. 0. 0. 0.]\n    [0. 0. 0. 0. 0.]]\n\n   [[0. 0. 0. 0. 0.]\n    [0. 0. 0. 0. 0.]\n    [0. 0. 0. 0. 0.]\n    [0. 0. 0. 0. 0.]\n    [0. 0. 0. 0. 0.]]]]\n\n\n\n [[[[0. 0. 0. 0. 0.]\n    [0. 0. 0. 0. 0.]\n    [0. 0. 0. 0. 0.]\n    [0. 0. 0. 0. 0.]\n    [0. 0. 0. 0. 0.]]\n\n   [[0. 0. 0. 0. 0.]\n    [0. 0. 0. 0. 0.]\n    [0. 0. 0. 0. 0.]\n    [0. 0. 0. 0. 0.]\n    [0. 0. 0. 0. 0.]]\n\n   [[0. 0. 0. 0. 0.]\n    [0. 0. 0. 0. 0.]\n    [0. 0. 0. 0. 0.]\n    [0. 0. 0. 0. 0.]\n    [0. 0. 0. 0. 0.]]\n\n   [[0. 0. 0. 0. 0.]\n    [0. 0. 0. 0. 0.]\n    [0. 0. 0. 0. 0.]\n    [0. 0. 0. 0. 0.]\n    [0. 0. 0. 0. 0.]]\n\n   [[0. 0. 0. 0. 0.]\n    [0. 0. 0. 0. 0.]\n    [0. 0. 0. 0. 0.]\n    [0. 0. 0. 0. 0.]\n    [0. 0. 0. 0. 0.]]]\n\n\n  [[[0. 0. 0. 0. 0.]\n    [0. 0. 0. 0. 0.]\n    [0. 0. 0. 0. 0.]\n    [0. 0. 0. 0. 0.]\n    [0. 0. 0. 0. 0.]]\n\n   [[0. 0. 0. 0. 0.]\n    [0. 0. 0. 0. 0.]\n    [0. 0. 0. 0. 0.]\n    [0. 0. 0. 0. 0.]\n    [0. 0. 0. 0. 0.]]\n\n   [[0. 0. 0. 0. 0.]\n    [0. 0. 0. 0. 0.]\n    [0. 0. 0. 0. 0.]\n    [0. 0. 0. 0. 0.]\n    [0. 0. 0. 0. 0.]]\n\n   [[0. 0. 0. 0. 0.]\n    [0. 0. 0. 0. 0.]\n    [0. 0. 0. 0. 0.]\n    [0. 0. 0. 0. 0.]\n    [0. 0. 0. 0. 0.]]\n\n   [[0. 0. 0. 0. 0.]\n    [0. 0. 0. 0. 0.]\n    [0. 0. 0. 0. 0.]\n    [0. 0. 0. 0. 0.]\n    [0. 0. 0. 0. 0.]]]\n\n\n  [[[0. 0. 0. 0. 0.]\n    [0. 0. 0. 0. 0.]\n    [0. 0. 0. 0. 0.]\n    [0. 0. 0. 0. 0.]\n    [0. 0. 0. 0. 0.]]\n\n   [[0. 0. 0. 0. 0.]\n    [0. 0. 0. 0. 0.]\n    [0. 0. 0. 0. 0.]\n    [0. 0. 0. 0. 0.]\n    [0. 0. 0. 0. 0.]]\n\n   [[0. 0. 0. 0. 0.]\n    [0. 0. 0. 0. 0.]\n    [0. 0. 0. 0. 0.]\n    [0. 0. 0. 0. 0.]\n    [0. 0. 0. 0. 0.]]\n\n   [[0. 0. 0. 0. 0.]\n    [0. 0. 0. 0. 0.]\n    [0. 0. 0. 0. 0.]\n    [0. 0. 0. 0. 0.]\n    [0. 0. 0. 0. 0.]]\n\n   [[0. 0. 0. 0. 0.]\n    [0. 0. 0. 0. 0.]\n    [0. 0. 0. 0. 0.]\n    [0. 0. 0. 0. 0.]\n    [0. 0. 0. 0. 0.]]]\n\n\n  [[[0. 0. 0. 0. 0.]\n    [0. 0. 0. 0. 0.]\n    [0. 0. 0. 0. 0.]\n    [0. 0. 0. 0. 0.]\n    [0. 0. 0. 0. 0.]]\n\n   [[0. 0. 0. 0. 0.]\n    [0. 0. 0. 0. 0.]\n    [0. 0. 0. 0. 0.]\n    [0. 0. 0. 0. 0.]\n    [0. 0. 0. 0. 0.]]\n\n   [[0. 0. 0. 0. 0.]\n    [0. 0. 0. 0. 0.]\n    [0. 0. 0. 0. 0.]\n    [0. 0. 0. 0. 0.]\n    [0. 0. 0. 0. 0.]]\n\n   [[0. 0. 0. 0. 0.]\n    [0. 0. 0. 0. 0.]\n    [0. 0. 0. 0. 0.]\n    [0. 0. 0. 0. 0.]\n    [0. 0. 0. 0. 0.]]\n\n   [[0. 0. 0. 0. 0.]\n    [0. 0. 0. 0. 0.]\n    [0. 0. 0. 0. 0.]\n    [0. 0. 0. 0. 0.]\n    [0. 0. 0. 0. 0.]]]\n\n\n  [[[0. 0. 0. 0. 0.]\n    [0. 0. 0. 0. 0.]\n    [0. 0. 0. 0. 0.]\n    [0. 0. 0. 0. 0.]\n    [0. 0. 0. 0. 0.]]\n\n   [[0. 0. 0. 0. 0.]\n    [0. 0. 0. 0. 0.]\n    [0. 0. 0. 0. 0.]\n    [0. 0. 0. 0. 0.]\n    [0. 0. 0. 0. 0.]]\n\n   [[0. 0. 0. 0. 0.]\n    [0. 0. 0. 0. 0.]\n    [0. 0. 0. 0. 0.]\n    [0. 0. 0. 0. 0.]\n    [0. 0. 0. 0. 0.]]\n\n   [[0. 0. 0. 0. 0.]\n    [0. 0. 0. 0. 0.]\n    [0. 0. 0. 0. 0.]\n    [0. 0. 0. 0. 0.]\n    [0. 0. 0. 0. 0.]]\n\n   [[0. 0. 0. 0. 0.]\n    [0. 0. 0. 0. 0.]\n    [0. 0. 0. 0. 0.]\n    [0. 0. 0. 0. 0.]\n    [0. 0. 0. 0. 0.]]]]\n\n\n\n [[[[0. 0. 0. 0. 0.]\n    [0. 0. 0. 0. 0.]\n    [0. 0. 0. 0. 0.]\n    [0. 0. 0. 0. 0.]\n    [0. 0. 0. 0. 0.]]\n\n   [[0. 0. 0. 0. 0.]\n    [0. 0. 0. 0. 0.]\n    [0. 0. 0. 0. 0.]\n    [0. 0. 0. 0. 0.]\n    [0. 0. 0. 0. 0.]]\n\n   [[0. 0. 0. 0. 0.]\n    [0. 0. 0. 0. 0.]\n    [0. 0. 0. 0. 0.]\n    [0. 0. 0. 0. 0.]\n    [0. 0. 0. 0. 0.]]\n\n   [[0. 0. 0. 0. 0.]\n    [0. 0. 0. 0. 0.]\n    [0. 0. 0. 0. 0.]\n    [0. 0. 0. 0. 0.]\n    [0. 0. 0. 0. 0.]]\n\n   [[0. 0. 0. 0. 0.]\n    [0. 0. 0. 0. 0.]\n    [0. 0. 0. 0. 0.]\n    [0. 0. 0. 0. 0.]\n    [0. 0. 0. 0. 0.]]]\n\n\n  [[[0. 0. 0. 0. 0.]\n    [0. 0. 0. 0. 0.]\n    [0. 0. 0. 0. 0.]\n    [0. 0. 0. 0. 0.]\n    [0. 0. 0. 0. 0.]]\n\n   [[0. 0. 0. 0. 0.]\n    [0. 0. 0. 0. 0.]\n    [0. 0. 0. 0. 0.]\n    [0. 0. 0. 0. 0.]\n    [0. 0. 0. 0. 0.]]\n\n   [[0. 0. 0. 0. 0.]\n    [0. 0. 0. 0. 0.]\n    [0. 0. 0. 0. 0.]\n    [0. 0. 0. 0. 0.]\n    [0. 0. 0. 0. 0.]]\n\n   [[0. 0. 0. 0. 0.]\n    [0. 0. 0. 0. 0.]\n    [0. 0. 0. 0. 0.]\n    [0. 0. 0. 0. 0.]\n    [0. 0. 0. 0. 0.]]\n\n   [[0. 0. 0. 0. 0.]\n    [0. 0. 0. 0. 0.]\n    [0. 0. 0. 0. 0.]\n    [0. 0. 0. 0. 0.]\n    [0. 0. 0. 0. 0.]]]\n\n\n  [[[0. 0. 0. 0. 0.]\n    [0. 0. 0. 0. 0.]\n    [0. 0. 0. 0. 0.]\n    [0. 0. 0. 0. 0.]\n    [0. 0. 0. 0. 0.]]\n\n   [[0. 0. 0. 0. 0.]\n    [0. 0. 0. 0. 0.]\n    [0. 0. 0. 0. 0.]\n    [0. 0. 0. 0. 0.]\n    [0. 0. 0. 0. 0.]]\n\n   [[0. 0. 0. 0. 0.]\n    [0. 0. 0. 0. 0.]\n    [0. 0. 0. 0. 0.]\n    [0. 0. 0. 0. 0.]\n    [0. 0. 0. 0. 0.]]\n\n   [[0. 0. 0. 0. 0.]\n    [0. 0. 0. 0. 0.]\n    [0. 0. 0. 0. 0.]\n    [0. 0. 0. 0. 0.]\n    [0. 0. 0. 0. 0.]]\n\n   [[0. 0. 0. 0. 0.]\n    [0. 0. 0. 0. 0.]\n    [0. 0. 0. 0. 0.]\n    [0. 0. 0. 0. 0.]\n    [0. 0. 0. 0. 0.]]]\n\n\n  [[[0. 0. 0. 0. 0.]\n    [0. 0. 0. 0. 0.]\n    [0. 0. 0. 0. 0.]\n    [0. 0. 0. 0. 0.]\n    [0. 0. 0. 0. 0.]]\n\n   [[0. 0. 0. 0. 0.]\n    [0. 0. 0. 0. 0.]\n    [0. 0. 0. 0. 0.]\n    [0. 0. 0. 0. 0.]\n    [0. 0. 0. 0. 0.]]\n\n   [[0. 0. 0. 0. 0.]\n    [0. 0. 0. 0. 0.]\n    [0. 0. 0. 0. 0.]\n    [0. 0. 0. 0. 0.]\n    [0. 0. 0. 0. 0.]]\n\n   [[0. 0. 0. 0. 0.]\n    [0. 0. 0. 0. 0.]\n    [0. 0. 0. 0. 0.]\n    [0. 0. 0. 0. 0.]\n    [0. 0. 0. 0. 0.]]\n\n   [[0. 0. 0. 0. 0.]\n    [0. 0. 0. 0. 0.]\n    [0. 0. 0. 0. 0.]\n    [0. 0. 0. 0. 0.]\n    [0. 0. 0. 0. 0.]]]\n\n\n  [[[0. 0. 0. 0. 0.]\n    [0. 0. 0. 0. 0.]\n    [0. 0. 0. 0. 0.]\n    [0. 0. 0. 0. 0.]\n    [0. 0. 0. 0. 0.]]\n\n   [[0. 0. 0. 0. 0.]\n    [0. 0. 0. 0. 0.]\n    [0. 0. 0. 0. 0.]\n    [0. 0. 0. 0. 0.]\n    [0. 0. 0. 0. 0.]]\n\n   [[0. 0. 0. 0. 0.]\n    [0. 0. 0. 0. 0.]\n    [0. 0. 0. 0. 0.]\n    [0. 0. 0. 0. 0.]\n    [0. 0. 0. 0. 0.]]\n\n   [[0. 0. 0. 0. 0.]\n    [0. 0. 0. 0. 0.]\n    [0. 0. 0. 0. 0.]\n    [0. 0. 0. 0. 0.]\n    [0. 0. 0. 0. 0.]]\n\n   [[0. 0. 0. 0. 0.]\n    [0. 0. 0. 0. 0.]\n    [0. 0. 0. 0. 0.]\n    [0. 0. 0. 0. 0.]\n    [0. 0. 0. 0. 0.]]]]], shape=(5, 5, 5, 5, 5), dtype=float32)\n"
     ]
    }
   ],
   "source": [
    "print(t)"
   ]
  },
  {
   "cell_type": "code",
   "execution_count": 17,
   "metadata": {},
   "outputs": [
    {
     "output_type": "stream",
     "name": "stdout",
     "text": [
      "tf.Tensor([0. 0. 0. ... 0. 0. 0.], shape=(3125,), dtype=float32)\n"
     ]
    }
   ],
   "source": [
    "t = tf.reshape(t,[-1])\n",
    "print(t)"
   ]
  },
  {
   "cell_type": "code",
   "execution_count": 21,
   "metadata": {},
   "outputs": [
    {
     "output_type": "stream",
     "name": "stdout",
     "text": [
      "tf.Tensor(\n[[0. 0. 0. ... 0. 0. 0.]\n [0. 0. 0. ... 0. 0. 0.]\n [0. 0. 0. ... 0. 0. 0.]\n [0. 0. 0. ... 0. 0. 0.]\n [0. 0. 0. ... 0. 0. 0.]], shape=(5, 625), dtype=float32)\n"
     ]
    }
   ],
   "source": [
    "t =tf.reshape(t, [5,-1])\n",
    "print(t)"
   ]
  }
 ]
}